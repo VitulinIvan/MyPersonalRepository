{
  "nbformat": 4,
  "nbformat_minor": 0,
  "metadata": {
    "colab": {
      "name": "VitulinIA_Zadanie_26.ipynb",
      "provenance": [],
      "collapsed_sections": []
    },
    "kernelspec": {
      "name": "python3",
      "display_name": "Python 3"
    }
  },
  "cells": [
    {
      "cell_type": "markdown",
      "metadata": {
        "id": "tmzuPsq-J2fb",
        "colab_type": "text"
      },
      "source": [
        "## 26. Нелинейный метод наименьших квадратов. Светимость звезды\n",
        "[Каханер–Моулер–Нэш]\n",
        "Сверхновой звезде типа I соответствует специальная модель светимости. Спустя несколько дней после максимума светимости эту модель\n",
        "можно описать так:\n",
        "$$\n",
        "L(t) = C_1 e^{-t/\\alpha_1} + C_2 e^{-t/\\alpha_2},\n",
        "$$\n",
        "где $t$ – время (в днях) с момента максимальной светимости,\n",
        "а $L(t)$ – светимость, относительно максимальной светимости.\n",
        "В таблице ниже приведены данные по относительной светимости для свехновой I939A6, полученные в 1936 г.\n",
        "Пик светимости приходится на день $0$, но наблюдения до дня $7.0$, опущены, так какуказанная модель не описывает\n",
        "светимости перед и непосредственно после максимума.\n",
        "\n",
        "\n",
        "```\n",
        "    t      L(t)    \n",
        "--------------------\n",
        "   7.0    0.6310     \n",
        "   7.0    0.8318     \n",
        "  14.8    0.2754     \n",
        "  16.0    0.1445     \n",
        "  16.9    0.2089     \n",
        "  17.0    0.1585     \n",
        "  18.8    0.1585     \n",
        "  19.0    0.1318     \n",
        "  20.9    0.1585     \n",
        "  15.8    0.1096     \n",
        "  16.8    0.1445     \n",
        "  28.0    0.09120    \n",
        "  53.0    0.06310    \n",
        "  54.0    0.06918    \n",
        "  57.0    0.05754    \n",
        "  85.0    0.03631    \n",
        " 109.0    0.02291    \n",
        " 110.0    0.02291    \n",
        " 141.0    0.01738    \n",
        " 142.0    0.01585    \n",
        " 168.0    0.009120   \n",
        "```\n",
        "\n",
        "Нанести данные на график.\n",
        "Нелинейным методом наименьших квадратов найдите неизвестные параметры модели и постройте графики.\n",
        "Используйте различные начальные значения для $\\alpha_1$, $\\alpha_2$, $C_1$, $C_2$.\n",
        "Чему равна результирующая суммарная ошибка?\n",
        "Насколько чувствительны результирующие значения к начальным значениям?"
      ]
    },
    {
      "cell_type": "code",
      "metadata": {
        "id": "QghRfT7CLHdJ",
        "colab_type": "code",
        "colab": {}
      },
      "source": [
        "#Подключаем все необходимые для решения задачи библиотеки и функции\n",
        "import numpy as np\n",
        "import math as m\n",
        "import matplotlib.pyplot as plt\n",
        "from scipy.optimize import curve_fit"
      ],
      "execution_count": 0,
      "outputs": []
    },
    {
      "cell_type": "code",
      "metadata": {
        "id": "rBwlSz4RLWM-",
        "colab_type": "code",
        "colab": {}
      },
      "source": [
        "#Передаём исходные данные, указанные в условии\n",
        "t = np.array([7.,7.,18.8,16.,16.9,17.,18.8,19.,20.9,15.8,16.8,28.0,53.,54.,57.,85.,109.,110.,141.,142.,168.])\n",
        "Lt = np.array([0.6310, 0.8318, 0.2754, 0.1445, 0.2089, 0.1585, 0.1585, 0.1318, 0.1585, 0.1096, 0.1445, 0.09120, 0.06310, 0.06918, 0.05754, 0.03631, 0.02291, 0.02291, 0.01738, 0.01585, 0.009120])\n"
      ],
      "execution_count": 0,
      "outputs": []
    },
    {
      "cell_type": "markdown",
      "metadata": {
        "id": "JCgRqPLaMFL3",
        "colab_type": "text"
      },
      "source": [
        "Метод наименьших квадратов (далее будем обозначать МНК) - один из самых распространенных методов, который применяется при решении различных систем уравнений и нахождении аппроксимирующей прямой для заранее заданных точек."
      ]
    },
    {
      "cell_type": "markdown",
      "metadata": {
        "id": "CcQJiRDtOPSm",
        "colab_type": "text"
      },
      "source": [
        "##Как выглядит задача апроксимации по МНК в общей постановке? Обратимся к теории:"
      ]
    },
    {
      "cell_type": "markdown",
      "metadata": {
        "id": "hKfOycPSOoE9",
        "colab_type": "text"
      },
      "source": [
        "В более общей постановке задачи аппроксимации предполагают, что данные \n",
        "$$\n",
        "(x_1, y_1),\\, (x_2, y_2),\\, \\dots,\\, (x_m, y_m)\n",
        "$$\n",
        "удовлетворяют соотношению\n",
        "$$\n",
        "y_i = f(x_i) + \\mbox{ошибка} \\qquad (i=1,2,\\dots,m),\n",
        "$$\n",
        "где $f(x)$ - некоторая функция, называемая *модельной функцией* или *моделью*.\n",
        "Иными словами,\n",
        "$$\n",
        "y_i \\approx f(x_i) \\qquad (i=1,2,\\dots,m). \\tag{*}\n",
        "$$\n",
        "\n",
        "Часто модель ищут в виде \n",
        "$$\n",
        "f(x) = \\beta_1 f_1(x) + \\beta_2 f_2(x) + \\dots + \\beta_n f_n(x), \\tag{**}\n",
        "$$\n",
        "где $f_1(x),f_2(x),\\dots,f_n(x)$ - некоторые заданные функции.\n",
        "Например, при аппроксимации данных линейной функцией (как было выше) $f_1(x) = 1$, $f_2(x)=x$. \n",
        "В более общем случае рассматривают аппроксимацию полиномами (многочленами), тогда\n",
        "$f_1(x) = 1,\\, f_2(x)=x\\, \\dots,\\, f_n(x)=x^{n-1}$.\n",
        "\n",
        "Есть разные подходы, как понимать приближенное равенство в ($*$).\n",
        "Наиболее популярный подход - *метод наименьших квадратов*, когда ищут значения параметров $\\beta_1, \\dots, \\beta_n$,\n",
        "на которых достигается минимум\n",
        "$$\n",
        " \\sum_{i=1}^m \\left(\\beta_1 f_1(x_i) + \\dots + \\beta_n f_n(x_i) - y_i \\strut\\right)^2 \\to \\min_{\\beta_1, \\dots, \\beta_n}. \\tag{***}\n",
        "$$\n",
        "При этом\n",
        "$$\n",
        "{\\rm MSE} = \\frac{1}{m}\\sum_{i=1}^m \\left(\\beta_1 f_1(x_i) + \\dots + \\beta_n f_n(x_i) - y_i \\strut\\right)^2\n",
        "$$\n",
        "называют *средним квадратом ошибки* (*mean squared error*).\n",
        "\n",
        "Так как параметры $\\beta_1, \\dots, \\beta_n$ в ($**$) входят в модель линейно, то метод называется *линейным* методом наименьших квадратов (при этом функции $f_1(x),f_2(x),\\dots,f_n(x)$ не обязаны быть линейными).\n",
        "\n",
        "Заметим, что $x$ не обязан быть скаляром, а может быть вектором."
      ]
    },
    {
      "cell_type": "markdown",
      "metadata": {
        "id": "y-x_unLbO_8E",
        "colab_type": "text"
      },
      "source": [
        "Что касается *нелинейного меода наименьших квадратов* (далее будем обозначать *нМНК*): в языке программирования Python он реализован в виде функции ***curve_fit*** , находящейся в библиотеке ***scipy.optimize***. Именно этой функцией мы и будем пользоваться для решения поставленной задачи."
      ]
    },
    {
      "cell_type": "markdown",
      "metadata": {
        "id": "U0y7Yo8UZI5I",
        "colab_type": "text"
      },
      "source": [
        "Проведём несколько экспериментов, используя различные предполагаемые начальные значения для $\\alpha_1$, $\\alpha_2$, $C_1$, $C_2$.\n",
        "Результирующую суммарную ошибку вычислим по формуле: \n",
        " $SumErr = \\frac{\\sum_{i=1}^n err_i\\^2}{n}\\$\n",
        "\n",
        "В качестве демонстрации работы программы попробуем предположить, что все коэфициенты равны 1"
      ]
    },
    {
      "cell_type": "code",
      "metadata": {
        "id": "q1B8N8SAUjJQ",
        "colab_type": "code",
        "colab": {
          "base_uri": "https://localhost:8080/",
          "height": 282
        },
        "outputId": "4540317d-c17d-47c0-86a2-0a38112d5c04"
      },
      "source": [
        "def fun1(t,c1,c2, a1,a2):\n",
        "    return c1*np.exp(-t/a1) + c2*np.exp(-t/a2)\n",
        "#предполагаемые начальные значения коэфициентов для следующей апроксимации\n",
        "coefs = [1, 1, 1, 1]\n",
        "#массив результатов получается в итоге подставления t[i] в полученную функцию\n",
        "t2 = np.empty (21,  dtype=np.float)\n",
        "# первый параметр есть функция, дальше - исходные данные, потом набор начальных значений, лимит на кол-во исчислений\n",
        "c, _ = curve_fit(fun1, t, Lt, coefs, maxfev = 5000)\n",
        "#подставления t[i] в полученную функцию\n",
        "for i in range(0, 21):\n",
        "   t2[i] = fun1(t[i], c[0], c[1], c[2], c[3])\n",
        "#смотрим разницу между исходними данными и полученым значением\n",
        "err = np.array (Lt - t2)\n",
        "for i in range (0,21):\n",
        "#берем квадрат разницы, что бы не влиял знак\n",
        "   err[i] = err[i]**2\n",
        "   SumErr = sum(err)/21\n",
        "#вывод ошибки\n",
        "print(\"Результирующая суммарная ошибка модели = \",SumErr)\n",
        "#рисуем график\n",
        "plt.plot(t, t2, \"g\", label='nMNK graph')\n",
        "plt.plot(t, Lt, \"o\", label='Data from condition')\n",
        "plt.legend()\n",
        "pass"
      ],
      "execution_count": 112,
      "outputs": [
        {
          "output_type": "stream",
          "text": [
            "Результирующая суммарная ошибка модели =  0.002039042965355133\n"
          ],
          "name": "stdout"
        },
        {
          "output_type": "display_data",
          "data": {
            "image/png": "[encoded data removed]",
            "text/plain": [
              "<Figure size 432x288 with 1 Axes>"
            ]
          },
          "metadata": {
            "tags": [],
            "needs_background": "light"
          }
        }
      ]
    },
    {
      "cell_type": "markdown",
      "metadata": {
        "id": "AetXvZ_vam0X",
        "colab_type": "text"
      },
      "source": [
        "В итоге, после нескольких экспериментов мы распологаем следующими данными:\n",
        "\n",
        "([предполагаемые начальные коэфициенты] = ошибка модели)\n"
      ]
    },
    {
      "cell_type": "markdown",
      "metadata": {
        "id": "A5OHJRFNhufB",
        "colab_type": "text"
      },
      "source": [
        "$[1, 1, 1, 1] = 0.002039042965355133$\n",
        "\n",
        "$[2, 2, 2, 2] = 0.0020390429227926344$\n",
        "\n",
        "$[2.1, 2.1, 2.1, 2.1] = 0.0020390430766769664$\n",
        "\n",
        "$[2.5, 2, 2, 2] = 0.0020390429896489847$\n",
        "\n",
        "$[4.3, 10, 3, 2] = 0.002039043010094379$\n",
        "\n",
        "$[4, 10, 3, 2.5] = 0.002039042920514795$\n",
        "\n",
        "$[4, 10, 3, 10] = 0.0020390430074989467$\n",
        "\n",
        "$[7, 5, 3, 10] = 0.00203904298309105$\n",
        "\n",
        "$[7.3, 5.3, 3.3, 10.3] = 0.0020390429926196657$\n",
        "\n",
        "$[0.03, 0.004, 0.5, 1] = 0.0020390429924264145$"
      ]
    },
    {
      "cell_type": "markdown",
      "metadata": {
        "id": "kQx4o__m6c-v",
        "colab_type": "text"
      },
      "source": [
        "# Выводы\n",
        "Что же можно сказать в заключение? Мы смогли просчитать результирующую суммарную ошибку (РСО) при проведении аппроксимации исходных данных. Исходя из полученных результатов, мы понимаем, что РСО не чувствительна к предполагаемым начальным значениям, т.к. различия в полученных значениях начинаются с 10-ой (один раз с 9-ой) цифры после запятой."
      ]
    }
  ]
}